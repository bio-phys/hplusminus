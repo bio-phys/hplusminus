{
 "cells": [
  {
   "cell_type": "markdown",
   "metadata": {},
   "source": [
    "Copyright (c) 2020 Juergen Koefinger, Max Planck Institute of Biophysics, Frankfurt am Main, Germany\n",
    "\n",
    "Released under the MIT Licence, see the file LICENSE.txt."
   ]
  },
  {
   "cell_type": "markdown",
   "metadata": {},
   "source": [
    "# Description"
   ]
  },
  {
   "cell_type": "markdown",
   "metadata": {},
   "source": [
    "**Explore the statistical power of the $h$, $h^\\pm$, $(\\chi^2, h)$, and $(\\chi^2, h^\\pm)$ test.**\n",
    "\n",
    "You can provide a file containting a **model for the residuals**. You can generate a model using generate_models_for_residuals.py. \n",
    "\n",
    "In this notebooke, we repeatedly add normally distributed noise to the model and calculate the p-values for all tests. These p-values are then collected in **histograms and cumulative histograms**. The latter are the **statistical power** of the test for the given model. \n",
    "\n",
    "If **no model is provided** then we use the true model (without noise, all residuals are all zero). In this case, histograms of the p-values are flat and cumulative histograms are equal to the p-value. Calculating these histograms for the true model serves as a check for consistency.\n",
    "\n",
    "At the end of the notebook, we plot the cumulative **Shannon information distributions (SIDs)** calculated from the Shannon information of all the generated samples. "
   ]
  },
  {
   "cell_type": "markdown",
   "metadata": {},
   "source": [
    "# Initialization "
   ]
  },
  {
   "cell_type": "code",
   "execution_count": null,
   "metadata": {},
   "outputs": [],
   "source": [
    "import numpy as np\n",
    "import matplotlib\n",
    "import matplotlib.pylab as plt\n",
    "%matplotlib inline \n",
    "matplotlib.rc('xtick', labelsize=16) \n",
    "matplotlib.rc('ytick', labelsize=16) \n",
    "matplotlib.rc('axes', labelsize=16) \n",
    "import scipy\n",
    "import sys\n",
    "sys.path.append(\"../\")\n",
    "import hplusminus as hpm"
   ]
  },
  {
   "cell_type": "code",
   "execution_count": null,
   "metadata": {},
   "outputs": [],
   "source": [
    "title={}\n",
    "title['chi2_hpm']=\"$(\\chi^2, h^\\pm)$-statistic\"\n",
    "title['hpm']=\"$h^\\pm$-statistic\"\n",
    "title['chi2']=\"$\\chi^2$-statistic\"\n",
    "title['h']=\"$h$-statistic\"\n",
    "title['chi2_h']=\"$(\\chi^2, h)$-statistic\""
   ]
  },
  {
   "cell_type": "code",
   "execution_count": null,
   "metadata": {},
   "outputs": [],
   "source": [
    "# Parameters for gamma distribution used to calculate p-values\n",
    "gamma_param=hpm.init()"
   ]
  },
  {
   "cell_type": "markdown",
   "metadata": {},
   "source": [
    "# Input"
   ]
  },
  {
   "cell_type": "code",
   "execution_count": null,
   "metadata": {},
   "outputs": [],
   "source": [
    "i_path=\"../examples/\""
   ]
  },
  {
   "cell_type": "code",
   "execution_count": null,
   "metadata": {},
   "outputs": [],
   "source": [
    "# Name of file containing model for normalized residuals. REPLACE WITH YOUR OWN! \n",
    "file_name_model_for_residuals=i_path+\"alternative_model.txt\"\n",
    "\n",
    "#Set file_name=\"\" and set number of data points to use true model. \n",
    "# file_name_model_for_residuals=\"\"\n",
    "# number_data_points = 5000"
   ]
  },
  {
   "cell_type": "code",
   "execution_count": null,
   "metadata": {},
   "outputs": [],
   "source": [
    "if file_name_model_for_residuals == \"\":\n",
    "    # Generate true model, i.e., all model residuals equal zero. \n",
    "    try:\n",
    "        print(\"Generating true model\")\n",
    "        print(\"number_data_points = %d\" % number_data_points)\n",
    "    except:\n",
    "        print(\"Error: Set positive integer value for number_data_points\")\n",
    "    model_for_residuals  = np.zeros(number_data_points)\n",
    "else:\n",
    "     # Read in model for normalized residuals (without noise!) from file. \n",
    "    print(\"Loading residuals from \\\"%s\\\"\" % file_name_model_for_residuals)\n",
    "\n",
    "    model_for_residuals = np.loadtxt(file_name_model_for_residuals)\n",
    "    number_data_points = model_for_residuals.shape[0]"
   ]
  },
  {
   "cell_type": "code",
   "execution_count": null,
   "metadata": {},
   "outputs": [],
   "source": [
    "# Number of samples\n",
    "n_sample=10000"
   ]
  },
  {
   "cell_type": "code",
   "execution_count": null,
   "metadata": {},
   "outputs": [],
   "source": [
    "# P-values\n",
    "p_values={}\n",
    "# Shannon information\n",
    "I={}\n",
    "tests=[\"chi2\", \"hpm\", \"h\", \"chi2_h\", \"chi2_hpm\"]\n",
    "for t in tests:\n",
    "    p_values[t]=np.zeros(n_sample)\n",
    "    I[t]=np.zeros(n_sample)"
   ]
  },
  {
   "cell_type": "markdown",
   "metadata": {},
   "source": [
    "# P-value Distribution Function"
   ]
  },
  {
   "cell_type": "code",
   "execution_count": null,
   "metadata": {},
   "outputs": [],
   "source": [
    "for i in range(n_sample):\n",
    "    # Add normal noise to model residuals.\n",
    "    normalized_residuals = model_for_residuals+np.random.normal(0,1,number_data_points)\n",
    "    signs=np.sign(normalized_residuals)\n",
    "\n",
    "    #Calculate histograms\n",
    "    num, blockLen, histo, edges = hpm.get_run_length_distributions(signs)\n",
    "    chi_square=(normalized_residuals**2).sum()\n",
    "    I['chi2'][i] = hpm.SI_chi2(chi_square, number_data_points)\n",
    "    I['hpm'][i] = hpm.SI_hpm(number_data_points, num[1], histo['plus'], histo['minus'])\n",
    "    I['h'][i] = hpm.SI_h(number_data_points, histo['all'])\n",
    "I['chi2_h'] = I['h'] + I['chi2']\n",
    "I['chi2_hpm'] = I['hpm'] + I['chi2']"
   ]
  },
  {
   "cell_type": "code",
   "execution_count": null,
   "metadata": {},
   "outputs": [],
   "source": [
    "for test in I:\n",
    "    p_values[test]=hpm.get_p_value(I[test], number_data_points, test, gamma_param)"
   ]
  },
  {
   "cell_type": "code",
   "execution_count": null,
   "metadata": {},
   "outputs": [],
   "source": [
    "for t in tests:\n",
    "    plt.title(\"%s, N=%d\" % (title[t], number_data_points), size=16)\n",
    "    h, e, dummy = plt.hist(p_values[t], bins=100, range=(0,1), density=True, histtype=\"step\")\n",
    "    plt.axhline(1, c='C1', label=\"True model\")\n",
    "    plt.legend(fontsize=16)\n",
    "    plt.ylim(bottom=0)\n",
    "    plt.xlabel(\"p-value\")\n",
    "    plt.ylabel(\"histogram\")\n",
    "    plt.show()"
   ]
  },
  {
   "cell_type": "markdown",
   "metadata": {},
   "source": [
    "# Statistical Power"
   ]
  },
  {
   "cell_type": "code",
   "execution_count": null,
   "metadata": {},
   "outputs": [],
   "source": [
    "for t in tests:\n",
    "    plt.title(\"%s, N=%d\" % (title[t], number_data_points), size=16)\n",
    "    p_values_tmp=np.sort(p_values[t])\n",
    "    cdf=np.arange(p_values_tmp.shape[0])/float(p_values_tmp.shape[0])\n",
    "    plt.plot(p_values_tmp, cdf, '.-')\n",
    "    plt.xscale('log')\n",
    "    #plt.yscale('log')\n",
    "    (xmin, xmax)=plt.gca().get_xlim()\n",
    "    (ymin, ymax)=plt.gca().get_xlim()\n",
    "    dummy=np.linspace(min(xmin, ymin),1,100)\n",
    "\n",
    "    plt.plot(dummy, dummy, lw=2, c='C1', label=\"True model\")\n",
    "    plt.legend(fontsize=16)\n",
    "    plt.xlabel(\"p-value\\n[significance level alpha]\")\n",
    "    plt.ylabel(\"cumulative distribution function\\n[statistical power]\")\n",
    "    plt.axhline(1, c=\"k\")\n",
    "    plt.grid()\n",
    "#     plt.ylim(1e-4, 5)\n",
    "    plt.xlim(1e-4,1)\n",
    "    q_save_fig=False\n",
    "    if q_save_fig:\n",
    "        oname=\"p-value_cumu_gamma_%s_Ns%d_nsample%d\" % (t, number_data_points, n_sample)\n",
    "        print(oname)\n",
    "        for fmt in ['.jpg','.png']:\n",
    "            plt.savefig(oimg+oname+fmt, dpi=600,  bbox_inches='tight')\n",
    "    q_save_fig=False\n",
    "    plt.show()"
   ]
  },
  {
   "cell_type": "markdown",
   "metadata": {},
   "source": [
    "# Plotting the Cumulative Shannon Information Distributions (SIDs)"
   ]
  },
  {
   "cell_type": "code",
   "execution_count": null,
   "metadata": {},
   "outputs": [],
   "source": [
    "for t in tests:\n",
    "    I_tmp=np.sort(I[t])[::-1]\n",
    "    cdf=np.arange(1,I_tmp.shape[0]+1)/float(I_tmp.shape[0])\n",
    "    plt.title(\"%s, N=%d\" % (title[t], number_data_points), size=16)\n",
    "    plt.xlabel(r\"Shannon information $\\mathcal{I}=-\\ln p$\")\n",
    "    plt.ylabel(\"cumulative distribution function\")\n",
    "    plt.plot(I_tmp, cdf)\n",
    "    plt.grid()\n",
    "    plt.show()"
   ]
  }
 ],
 "metadata": {
  "kernelspec": {
   "display_name": "Python 3",
   "language": "python",
   "name": "python3"
  },
  "language_info": {
   "codemirror_mode": {
    "name": "ipython",
    "version": 3
   },
   "file_extension": ".py",
   "mimetype": "text/x-python",
   "name": "python",
   "nbconvert_exporter": "python",
   "pygments_lexer": "ipython3",
   "version": "3.6.10"
  },
  "toc-autonumbering": true
 },
 "nbformat": 4,
 "nbformat_minor": 4
}
