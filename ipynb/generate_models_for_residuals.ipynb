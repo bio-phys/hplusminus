{
 "cells": [
  {
   "cell_type": "markdown",
   "metadata": {},
   "source": [
    "Copyright (c) 2020 Juergen Koefinger, Max Planck Institute of Biophysics, Frankfurt am Main, Germany\n",
    "\n",
    "Released under the MIT Licence, see the file LICENSE.txt."
   ]
  },
  {
   "cell_type": "markdown",
   "metadata": {},
   "source": [
    "# Description"
   ]
  },
  {
   "cell_type": "markdown",
   "metadata": {},
   "source": [
    "Helper tool to generate models for residuals using step functions. \n",
    "\n",
    "Models are generated with and without normally distributed noise. You can use these models to explore the statistical power using the IPhython notebooks hplusminus_tests.ipynp and hplusminus_statistical_power.ipynp."
   ]
  },
  {
   "cell_type": "markdown",
   "metadata": {},
   "source": [
    "## Intialization "
   ]
  },
  {
   "cell_type": "code",
   "execution_count": null,
   "metadata": {},
   "outputs": [],
   "source": [
    "import numpy as np\n",
    "import matplotlib\n",
    "import matplotlib.pylab as plt\n",
    "%matplotlib inline \n",
    "matplotlib.rc('xtick', labelsize=16) \n",
    "matplotlib.rc('ytick', labelsize=16) \n",
    "matplotlib.rc('axes', labelsize=16)"
   ]
  },
  {
   "cell_type": "markdown",
   "metadata": {},
   "source": [
    "## Define Model For Residuals Using Step Functions"
   ]
  },
  {
   "cell_type": "code",
   "execution_count": null,
   "metadata": {},
   "outputs": [],
   "source": [
    "# Number of data points\n",
    "number_data_points = 500\n",
    "# Define positions of steps in fractions of the number of data points. Fractions have to be in [0,1].\n",
    "relative_step_postitions = [0, 0.25, 0.5, 0.75, 1]\n",
    "# Define step heights \n",
    "step_heights = np.asarray([0, 1, 0, 1])\n",
    "# Define a scale factor for the step heights. \n",
    "# Use the scale factor to tune the signal-to-noise ratio when normally distributed is added below. \n",
    "scale_factor = 1\n",
    "# Scale step heights \n",
    "step_heights = step_heights*scale_factor"
   ]
  },
  {
   "cell_type": "code",
   "execution_count": null,
   "metadata": {},
   "outputs": [],
   "source": [
    "relative_step_postitions = np.sort(relative_step_postitions)\n",
    "if np.any(relative_step_postitions<0)+np.any(relative_step_postitions>1):\n",
    "    print(\"ERROR: Entries of \\\"fractions\\\" have to be in [0,1]\")\n",
    "if len(step_heights) != (len(relative_step_postitions)-1):\n",
    "    print(\"ERROR: \\\"heigths\\\" has to have one more entry than \\\"fractions\\\"\")"
   ]
  },
  {
   "cell_type": "code",
   "execution_count": null,
   "metadata": {},
   "outputs": [],
   "source": [
    "# Set is_true_model=True if you want to generate noise for the true model. That is, the model will equal to zero for all indices.\n",
    "is_true_model=False"
   ]
  },
  {
   "cell_type": "markdown",
   "metadata": {},
   "source": [
    "## Model Generation "
   ]
  },
  {
   "cell_type": "code",
   "execution_count": null,
   "metadata": {},
   "outputs": [],
   "source": [
    "# Generate step function (i.e., the model) from the information entered above\n",
    "step_positions=np.asarray(np.round(relative_step_postitions*number_data_points), dtype=np.int)\n",
    "step_lengths=step_positions[1:]-step_positions[:-1]\n",
    "model=[]\n",
    "for i, l in enumerate(step_lengths):\n",
    "    model.append(np.ones(l)*step_heights[i])\n",
    "model=(np.asarray(model)).flatten()\n",
    "model-=model.mean()"
   ]
  },
  {
   "cell_type": "code",
   "execution_count": null,
   "metadata": {},
   "outputs": [],
   "source": [
    "# Set is_true_model=True if you want to generate noise for the true model. That is, the model will equal to zero for all indices.\n",
    "if is_true_model:\n",
    "    model*=0."
   ]
  },
  {
   "cell_type": "code",
   "execution_count": null,
   "metadata": {},
   "outputs": [],
   "source": [
    "# Add normally distributed noise to the model\n",
    "model_normalized_residuals=model+np.random.normal(0, 1, number_data_points)"
   ]
  },
  {
   "cell_type": "markdown",
   "metadata": {},
   "source": [
    "## Plotting"
   ]
  },
  {
   "cell_type": "code",
   "execution_count": null,
   "metadata": {},
   "outputs": [],
   "source": [
    "plt.plot(model)\n",
    "plt.grid()\n",
    "plt.xlabel(\"index\")\n",
    "plt.ylabel(\"model\")"
   ]
  },
  {
   "cell_type": "code",
   "execution_count": null,
   "metadata": {},
   "outputs": [],
   "source": [
    "plt.plot(model_normalized_residuals)\n",
    "plt.grid()\n",
    "plt.xlabel(\"index\")\n",
    "plt.ylabel(\"model with noise\")"
   ]
  },
  {
   "cell_type": "markdown",
   "metadata": {},
   "source": [
    "## Save Model with and without noise to text files"
   ]
  },
  {
   "cell_type": "code",
   "execution_count": null,
   "metadata": {},
   "outputs": [],
   "source": [
    "io_path=\"./data/\""
   ]
  },
  {
   "cell_type": "code",
   "execution_count": null,
   "metadata": {},
   "outputs": [],
   "source": [
    "if is_true_model:\n",
    "    pref=\"true_\"\n",
    "else:\n",
    "    pref=\"alternative_\"\n",
    "# Without noise\n",
    "np.savetxt(io_path+pref+\"model.txt\", model)\n",
    "# With noise\n",
    "np.savetxt(io_path+pref+\"model_normalized_residuals.txt\", model_normalized_residuals)"
   ]
  }
 ],
 "metadata": {
  "kernelspec": {
   "display_name": "Python 3",
   "language": "python",
   "name": "python3"
  },
  "language_info": {
   "codemirror_mode": {
    "name": "ipython",
    "version": 3
   },
   "file_extension": ".py",
   "mimetype": "text/x-python",
   "name": "python",
   "nbconvert_exporter": "python",
   "pygments_lexer": "ipython3",
   "version": "3.6.10"
  }
 },
 "nbformat": 4,
 "nbformat_minor": 4
}
