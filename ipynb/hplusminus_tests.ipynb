{
 "cells": [
  {
   "cell_type": "markdown",
   "metadata": {},
   "source": [
    "Copyright (c) 2020 Juergen Koefinger, Max Planck Institute of Biophysics, Frankfurt am Main, Germany\n",
    "\n",
    "Released under the MIT Licence, see the file LICENSE.txt."
   ]
  },
  {
   "cell_type": "markdown",
   "metadata": {},
   "source": [
    "# Descripton"
   ]
  },
  {
   "cell_type": "markdown",
   "metadata": {},
   "source": [
    "**Perform the $h$, $h^\\pm$, $(\\chi^2,h)$, and $(\\chi^2,h^\\pm)$ statistical tests.**\n",
    "\n",
    "The input are the **normalized residuals**, which are read from a file. \n",
    "\n",
    "If no input is provided, you can perfrom the statistical tests for the true mode (i.e., without noise, all residuals are zero) as a check for consistency. "
   ]
  },
  {
   "cell_type": "markdown",
   "metadata": {},
   "source": [
    "# Initialization"
   ]
  },
  {
   "cell_type": "code",
   "execution_count": null,
   "metadata": {},
   "outputs": [],
   "source": [
    "# Plotting\n",
    "import matplotlib\n",
    "import matplotlib.pylab as plt\n",
    "%matplotlib inline \n",
    "matplotlib.rc('xtick', labelsize=16) \n",
    "matplotlib.rc('ytick', labelsize=16) \n",
    "matplotlib.rc('axes', labelsize=16) \n",
    "# numpy and scipy\n",
    "import numpy as np\n",
    "import scipy\n",
    "from scipy.stats import chi2\n",
    "# hplusminus\n",
    "import sys\n",
    "sys.path.append(\"../\")\n",
    "import hplusminus as hpm"
   ]
  },
  {
   "cell_type": "code",
   "execution_count": null,
   "metadata": {},
   "outputs": [],
   "source": [
    "# Parameters for gamma distribution used to calculate p-values\n",
    "gamma_param=hpm.init()"
   ]
  },
  {
   "cell_type": "markdown",
   "metadata": {},
   "source": [
    "# Read in normalized residuals (residuals divided by standard errors of the mean)"
   ]
  },
  {
   "cell_type": "markdown",
   "metadata": {},
   "source": [
    "For uncorrelated Gaussian errors, the **residuals $r_i$** are distributed accorrding to $\\propto \\exp{-r_i^2/(2 \\sigma_i^2)}$. The  residuals $r_i$ are given by the difference between model value $f_i$ and the data value $d_i$, i.e., $r_i=f_i-d_i$. The normalized residuals are given by \n",
    "\\begin{equation}\n",
    "z_i = \\frac{r_i}{\\sigma_i}\n",
    "\\end{equation}\n",
    "We consider ordered data, with the index $i=1, \\ldots, N$ determining the order."
   ]
  },
  {
   "cell_type": "code",
   "execution_count": null,
   "metadata": {},
   "outputs": [],
   "source": [
    "i_path=\"../examples/\""
   ]
  },
  {
   "cell_type": "code",
   "execution_count": null,
   "metadata": {},
   "outputs": [],
   "source": [
    "# Name of file containing normalized residuals. REPLACE WITH YOUR OWN! \n",
    "file_name=i_path+\"./true_model_normalized_residuals.txt\"\n",
    "file_name=i_path+\"./alternative_model_normalized_residuals.txt\"\n",
    "#Set file_name=\"\" and set number of data points to use true model. \n",
    "#file_name=\"\"\n",
    "#number_data_points=500"
   ]
  },
  {
   "cell_type": "code",
   "execution_count": null,
   "metadata": {},
   "outputs": [],
   "source": [
    "if file_name==\"\":\n",
    "    # Generate normalized residuals by drawing residuals from a normal distribution for TESTING\n",
    "    try:\n",
    "        print(\"Generating residuals for true model\")\n",
    "        print(\"number_data_points = %d\" % number_data_points)\n",
    "    except:\n",
    "        print(\"Error: Set positive integer value for number_data_points\")\n",
    "    normalized_residuals = np.random.normal(0, 1, number_data_points)\n",
    "    np.savetxt(io_path+\"normalized_residuals.txt\", normalized_residuals)\n",
    "else:\n",
    "    # Loading normalized residuals (residuals divided by standard errors of the mean) from file \n",
    "    print(\"Loading residuals from \\\"%s\\\"\" % file_name)\n",
    "    normalized_residuals=np.loadtxt(file_name)\n",
    "    number_data_points=len(normalized_residuals)"
   ]
  },
  {
   "cell_type": "markdown",
   "metadata": {},
   "source": [
    "## Plotting the normalized residuals"
   ]
  },
  {
   "cell_type": "code",
   "execution_count": null,
   "metadata": {},
   "outputs": [],
   "source": [
    "plt.plot(normalized_residuals)\n",
    "plt.grid()\n",
    "plt.xlabel(\"index $i$\")\n",
    "plt.ylabel(\"normalized residuals $r_i/\\sigma_i$\")"
   ]
  },
  {
   "cell_type": "markdown",
   "metadata": {},
   "source": [
    "# Evaluate statistical tests "
   ]
  },
  {
   "cell_type": "code",
   "execution_count": null,
   "metadata": {},
   "outputs": [],
   "source": [
    "signs=np.sign(normalized_residuals)\n",
    "chi_square=(normalized_residuals**2).sum()"
   ]
  },
  {
   "cell_type": "markdown",
   "metadata": {},
   "source": [
    "## Plotting the signs of the residuals"
   ]
  },
  {
   "cell_type": "code",
   "execution_count": null,
   "metadata": {},
   "outputs": [],
   "source": [
    "plt.plot(signs)\n",
    "plt.grid()\n",
    "plt.xlabel(\"index $i$\")\n",
    "plt.ylabel(\"signs $s_i$\")"
   ]
  },
  {
   "cell_type": "code",
   "execution_count": null,
   "metadata": {},
   "outputs": [],
   "source": [
    "# Calculate run-length histograms\n",
    "num, blockLen, histo, edges = hpm.get_run_length_distributions(signs)"
   ]
  },
  {
   "cell_type": "code",
   "execution_count": null,
   "metadata": {},
   "outputs": [],
   "source": [
    "# Dictionary for Shannon information for various tests\n",
    "I={}\n",
    "# Dictionary for p-values for various tests\n",
    "p_value={}"
   ]
  },
  {
   "cell_type": "markdown",
   "metadata": {},
   "source": [
    "## $\\chi^2$-test"
   ]
  },
  {
   "cell_type": "code",
   "execution_count": null,
   "metadata": {},
   "outputs": [],
   "source": [
    "I['chi2']=hpm.SI_chi2(chi_square, number_data_points)"
   ]
  },
  {
   "cell_type": "code",
   "execution_count": null,
   "metadata": {},
   "outputs": [],
   "source": [
    "print(\"Shannon information = %3.2f\" % I['chi2'])"
   ]
  },
  {
   "cell_type": "code",
   "execution_count": null,
   "metadata": {},
   "outputs": [],
   "source": [
    "p_value['chi2']=hpm.get_p_value(I['chi2'], number_data_points, 'chi2', gamma_param)"
   ]
  },
  {
   "cell_type": "code",
   "execution_count": null,
   "metadata": {},
   "outputs": [],
   "source": [
    "print(\"p-value = %3.2e\" % p_value['chi2'])"
   ]
  },
  {
   "cell_type": "markdown",
   "metadata": {},
   "source": [
    "## $h^\\pm$-test"
   ]
  },
  {
   "cell_type": "code",
   "execution_count": null,
   "metadata": {},
   "outputs": [],
   "source": [
    "I['hpm']=hpm.SI_hpm(number_data_points, num[1], histo['plus'], histo['minus'])"
   ]
  },
  {
   "cell_type": "code",
   "execution_count": null,
   "metadata": {},
   "outputs": [],
   "source": [
    "print(\"Shannon information = %3.2f\" % I['hpm'])"
   ]
  },
  {
   "cell_type": "code",
   "execution_count": null,
   "metadata": {},
   "outputs": [],
   "source": [
    "p_value['hpm']=hpm.get_p_value(I['hpm'], number_data_points, 'hpm', gamma_param)"
   ]
  },
  {
   "cell_type": "code",
   "execution_count": null,
   "metadata": {},
   "outputs": [],
   "source": [
    "print(\"p-value = %3.2e\" % p_value['hpm'])"
   ]
  },
  {
   "cell_type": "markdown",
   "metadata": {},
   "source": [
    "## $h$-test"
   ]
  },
  {
   "cell_type": "code",
   "execution_count": null,
   "metadata": {},
   "outputs": [],
   "source": [
    "I['h']=hpm.SI_h(number_data_points, histo['all'])"
   ]
  },
  {
   "cell_type": "code",
   "execution_count": null,
   "metadata": {},
   "outputs": [],
   "source": [
    "print(\"Shannon information = %3.2f\" % I['h'])"
   ]
  },
  {
   "cell_type": "code",
   "execution_count": null,
   "metadata": {},
   "outputs": [],
   "source": [
    "p_value['h']=hpm.get_p_value(I['h'], number_data_points, 'h', gamma_param)"
   ]
  },
  {
   "cell_type": "code",
   "execution_count": null,
   "metadata": {},
   "outputs": [],
   "source": [
    "print(\"p-value = %3.2e\" % p_value['h'])"
   ]
  },
  {
   "cell_type": "markdown",
   "metadata": {},
   "source": [
    "## $(\\chi^2, h)$-test"
   ]
  },
  {
   "cell_type": "code",
   "execution_count": null,
   "metadata": {},
   "outputs": [],
   "source": [
    "I['chi2_h'] = I['h'] + I['chi2']"
   ]
  },
  {
   "cell_type": "code",
   "execution_count": null,
   "metadata": {},
   "outputs": [],
   "source": [
    "print(\"Shannon information = %3.2f\" % I['chi2_h'])"
   ]
  },
  {
   "cell_type": "code",
   "execution_count": null,
   "metadata": {},
   "outputs": [],
   "source": [
    "p_value['chi2_h']=hpm.get_p_value(I['chi2_h'], number_data_points, 'chi2_h', gamma_param)"
   ]
  },
  {
   "cell_type": "code",
   "execution_count": null,
   "metadata": {},
   "outputs": [],
   "source": [
    "print(\"p-value = %3.2e\" % p_value['chi2_h'])"
   ]
  },
  {
   "cell_type": "markdown",
   "metadata": {},
   "source": [
    "## $(\\chi^2, h^\\pm)$-test"
   ]
  },
  {
   "cell_type": "code",
   "execution_count": null,
   "metadata": {},
   "outputs": [],
   "source": [
    "I['chi2_hpm'] = I['hpm'] + I['chi2']"
   ]
  },
  {
   "cell_type": "code",
   "execution_count": null,
   "metadata": {},
   "outputs": [],
   "source": [
    "print(\"Shannon information = %3.2f\" % I['chi2_hpm'])"
   ]
  },
  {
   "cell_type": "code",
   "execution_count": null,
   "metadata": {},
   "outputs": [],
   "source": [
    "p_value['chi2_hpm']=hpm.get_p_value(I['chi2_hpm'], number_data_points, 'chi2_hpm', gamma_param)"
   ]
  },
  {
   "cell_type": "code",
   "execution_count": null,
   "metadata": {},
   "outputs": [],
   "source": [
    "print(\"p-value = %3.2e\" % p_value['chi2_hpm'] )"
   ]
  },
  {
   "cell_type": "markdown",
   "metadata": {},
   "source": [
    "# Plotting the p-values"
   ]
  },
  {
   "cell_type": "code",
   "execution_count": null,
   "metadata": {},
   "outputs": [],
   "source": [
    "fig = plt.figure()\n",
    "ax=plt.gca()\n",
    "ax.minorticks_on()\n",
    "ax.tick_params(axis='y', which='minor', right=False)\n",
    "ax.tick_params(axis='x', which='minor', bottom=False)\n",
    "ax.bar([r\"$\\chi^2$\", r\"$h$\", r\"$h^\\pm$\", r\"$(\\chi^2, h)$\", r\"$(\\chi^2, h^\\pm)$\", ], \n",
    "       [p_value['chi2'],  p_value['h'] ,  p_value['hpm'] ,p_value['chi2_h'] , p_value['chi2_hpm'] ], \n",
    "       0.5, zorder=100)\n",
    "ax.set_yscale('log')\n",
    "ax.set_ylabel(\"p-value\")\n",
    "ax.yaxis.set_label_coords(-0.2, 0.5)\n",
    "ax.set_yticks([1, 1e-1, 1e-2, 1e-3, 1e-4, 1e-5, 1e-6])\n",
    "ax.yaxis.grid() "
   ]
  }
 ],
 "metadata": {
  "kernelspec": {
   "display_name": "Python 3",
   "language": "python",
   "name": "python3"
  },
  "language_info": {
   "codemirror_mode": {
    "name": "ipython",
    "version": 3
   },
   "file_extension": ".py",
   "mimetype": "text/x-python",
   "name": "python",
   "nbconvert_exporter": "python",
   "pygments_lexer": "ipython3",
   "version": "3.6.10"
  },
  "toc-autonumbering": true
 },
 "nbformat": 4,
 "nbformat_minor": 4
}
